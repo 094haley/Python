{
 "cells": [
  {
   "cell_type": "code",
   "execution_count": null,
   "metadata": {},
   "outputs": [],
   "source": [
    "\"\"\"\n",
    "날짜 : 2023/01/17\n",
    "이름 : 이해빈\n",
    "내용 : 백준 5단계 한수\n",
    "\"\"\""
   ]
  },
  {
   "cell_type": "code",
   "execution_count": 14,
   "metadata": {},
   "outputs": [
    {
     "name": "stdout",
     "output_type": "stream",
     "text": [
      "119\n"
     ]
    }
   ],
   "source": [
    "# 풀이1\n",
    "\n",
    "N = int(input())\n",
    "\n",
    "count = 0\n",
    "\n",
    "# 한수를 판별하는 함수\n",
    "def d(n):\n",
    "    a = n // 100\n",
    "    b = n % 100 // 10\n",
    "    c = n % 10\n",
    "    if a - b == b - c:\n",
    "        return True\n",
    "    return False\n",
    "\n",
    "\n",
    "if N < 100 :\n",
    "    for i in range(N):\n",
    "        count += 1\n",
    "else:\n",
    "    count = 99\n",
    "    for i in range(100, N+1):\n",
    "        if d(i) == True:\n",
    "            count += 1\n",
    "\n",
    "print(count)\n",
    "\n"
   ]
  },
  {
   "cell_type": "code",
   "execution_count": null,
   "metadata": {},
   "outputs": [],
   "source": [
    "# 풀이2\n",
    "\n",
    "N = int(input())\n",
    "\n",
    "def d(n):\n",
    "    count = 0\n",
    "\n",
    "    for i in range(n):\n",
    "        if n < 100:\n",
    "            count += 1\n",
    "        else:\n",
    "            li = list(map(int, str(n)))\n",
    "            \n",
    "\n",
    "\n",
    "\n",
    "\n",
    "print(d(N))\n"
   ]
  }
 ],
 "metadata": {
  "kernelspec": {
   "display_name": "Python 3",
   "language": "python",
   "name": "python3"
  },
  "language_info": {
   "codemirror_mode": {
    "name": "ipython",
    "version": 3
   },
   "file_extension": ".py",
   "mimetype": "text/x-python",
   "name": "python",
   "nbconvert_exporter": "python",
   "pygments_lexer": "ipython3",
   "version": "3.11.1 (tags/v3.11.1:a7a450f, Dec  6 2022, 19:58:39) [MSC v.1934 64 bit (AMD64)]"
  },
  "orig_nbformat": 4,
  "vscode": {
   "interpreter": {
    "hash": "5868237a719c5308d34c8911a17794e6baa898a055f8bd5fbd9df195d03bb563"
   }
  }
 },
 "nbformat": 4,
 "nbformat_minor": 2
}
