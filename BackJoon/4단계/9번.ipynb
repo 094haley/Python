{
 "cells": [
  {
   "cell_type": "code",
   "execution_count": null,
   "metadata": {},
   "outputs": [],
   "source": [
    "\"\"\"\n",
    "날짜 : 2023/01/12\n",
    "이름 : 이해빈\n",
    "내용 : 백준 4단계 평균은 넘겠지\n",
    "\"\"\""
   ]
  },
  {
   "cell_type": "code",
   "execution_count": null,
   "metadata": {},
   "outputs": [],
   "source": [
    "C = int(input())\n",
    "\n",
    "for i in range(C):\n",
    "    li = list(map(int, input().split()))\n",
    "    N = li[0] # 학생수\n",
    "    total = 0   # 학생들의 점수 합\n",
    "    avg = 0     # 평균\n",
    "    count = 0   # 평균을 넘는 학생 수\n",
    "\n",
    "    for x in range(1, N+1):\n",
    "        total += li[x]\n",
    "        avg = total / N\n",
    "\n",
    "    for y in range(1, N+1):\n",
    "        if li[y] > avg:\n",
    "            count += 1\n",
    "\n",
    "    result = round((count/N)*100,3)\n",
    "    print('%0.3f%%' % result)\n"
   ]
  },
  {
   "cell_type": "code",
   "execution_count": null,
   "metadata": {},
   "outputs": [],
   "source": []
  }
 ],
 "metadata": {
  "kernelspec": {
   "display_name": "Python 3",
   "language": "python",
   "name": "python3"
  },
  "language_info": {
   "codemirror_mode": {
    "name": "ipython",
    "version": 3
   },
   "file_extension": ".py",
   "mimetype": "text/x-python",
   "name": "python",
   "nbconvert_exporter": "python",
   "pygments_lexer": "ipython3",
   "version": "3.11.1"
  },
  "orig_nbformat": 4,
  "vscode": {
   "interpreter": {
    "hash": "5868237a719c5308d34c8911a17794e6baa898a055f8bd5fbd9df195d03bb563"
   }
  }
 },
 "nbformat": 4,
 "nbformat_minor": 2
}
