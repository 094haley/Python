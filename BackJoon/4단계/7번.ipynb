{
 "cells": [
  {
   "cell_type": "code",
   "execution_count": null,
   "metadata": {},
   "outputs": [],
   "source": [
    "\"\"\"\n",
    "날짜 : 2023/01/\n",
    "이름 : 이해빈\n",
    "내용 : 백준 4단계 평균\n",
    "\"\"\""
   ]
  },
  {
   "cell_type": "code",
   "execution_count": 9,
   "metadata": {},
   "outputs": [
    {
     "name": "stdout",
     "output_type": "stream",
     "text": [
      "[40, 80, 60]\n",
      "80\n",
      "[50.0, 100.0, 75.0]\n"
     ]
    }
   ],
   "source": [
    "N  = int(input())\n",
    "\n",
    "\n",
    "score = list(map(int, input().split()))\n",
    "M = 0\n",
    "\n",
    "for i in score:\n",
    "    if M < i:\n",
    "        M = i\n",
    "\n",
    "print(score)\n",
    "print(M)\n",
    "\n",
    "def newscore(n):\n",
    "    n =  n / M * 100\n",
    "    return n\n",
    "\n",
    "score = list(map(newscore, score))\n",
    "\n"
   ]
  }
 ],
 "metadata": {
  "kernelspec": {
   "display_name": "Python 3",
   "language": "python",
   "name": "python3"
  },
  "language_info": {
   "codemirror_mode": {
    "name": "ipython",
    "version": 3
   },
   "file_extension": ".py",
   "mimetype": "text/x-python",
   "name": "python",
   "nbconvert_exporter": "python",
   "pygments_lexer": "ipython3",
   "version": "3.11.1 (tags/v3.11.1:a7a450f, Dec  6 2022, 19:58:39) [MSC v.1934 64 bit (AMD64)]"
  },
  "orig_nbformat": 4,
  "vscode": {
   "interpreter": {
    "hash": "5868237a719c5308d34c8911a17794e6baa898a055f8bd5fbd9df195d03bb563"
   }
  }
 },
 "nbformat": 4,
 "nbformat_minor": 2
}
